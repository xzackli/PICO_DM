{
 "cells": [
  {
   "cell_type": "code",
   "execution_count": 1,
   "metadata": {},
   "outputs": [],
   "source": [
    "%matplotlib inline \n",
    "%load_ext autoreload\n",
    "%autoreload 2\n",
    "%config InlineBackend.figure_format = 'retina' # I use a HiDPI screen"
   ]
  },
  {
   "cell_type": "code",
   "execution_count": 2,
   "metadata": {},
   "outputs": [],
   "source": [
    "from fishchips.experiments import CMB_Primary\n",
    "from fishchips.cosmo import Observables\n",
    "import fishchips.cmb_lensing\n",
    "import fishchips.util\n",
    "\n",
    "from classy import Class  # CLASS python wrapper\n",
    "import numpy as np\n",
    "import matplotlib.pyplot as plt\n",
    "default_color_list = ['#1A1A1A', '#0072B2', '#009E73', '#D55E00', '#CC79A7', '#F0E442', '#56B4E9']"
   ]
  },
  {
   "cell_type": "markdown",
   "metadata": {},
   "source": [
    "# Utility Functions for Generating 95%"
   ]
  },
  {
   "cell_type": "code",
   "execution_count": 3,
   "metadata": {},
   "outputs": [],
   "source": [
    "import corner\n",
    "\n",
    "pars = np.array( ['omega_b', 'omega_dmeff', 'h',  'A_s', 'n_s', 'tau_reio', 'sigma_p'])\n",
    "centers = np.array([0.02222,  0.1197,  0.69,  2.1955e-9, 0.9655, 0.06, 0.0])\n",
    "\n",
    "def unitize_cov(imp_cov, scales):\n",
    "    imp_cov = imp_cov.copy()\n",
    "    npar = imp_cov.shape[0]\n",
    "    for i in range(npar):\n",
    "        for j in range(npar):\n",
    "            imp_cov[i,j] *= scales[i] * scales[j]\n",
    "    return imp_cov\n",
    "\n",
    "def get_samps(inp_cov, inp_means, num=int(1e8)):\n",
    "    samps = np.random.multivariate_normal( np.array(inp_means)/np.sqrt(np.diag(inp_cov)), \n",
    "                                           unitize_cov(inp_cov,1./np.sqrt(np.diag(inp_cov))), int(1e7))\n",
    "    samps = samps[samps.T[-1]>0]\n",
    "    for i in range(inp_cov.shape[0]):\n",
    "        samps.T[i] *= np.sqrt(inp_cov[i,i])\n",
    "        \n",
    "    return samps\n",
    "\n",
    "def get_step(mass_input):\n",
    "    # put in mass in GeV\n",
    "    return 2e-30 * mass_input**0.15\n",
    "\n",
    "def get_95_exclusion(input_cov):\n",
    "    # NOTE: sigma_p MUST BE THE LAST VARIABLE\n",
    "    samps = get_samps(input_cov, centers, num=int(1e8))\n",
    "    samps = samps[samps.T[-1]>0]\n",
    "    onesig, twosig = corner.quantile(samps[:,-1], \n",
    "                                 [0.68,0.95], \n",
    "                                 weights=1./np.sqrt(samps.T[-1]))\n",
    "    return twosig\n",
    "\n",
    "def convert_to_cc(sigma_p_dict, mass_X):\n",
    "    cc_dict = sigma_p_dict.copy()\n",
    "    sig = cc_dict['sigma_p']\n",
    "    mp = 0.9382720813\n",
    "    GeV = 1./(0.19732705e-15)\n",
    "    cc_conversion = (1./( (246.22 * GeV)**4 * np.pi)) * \\\n",
    "        ( (mass_X * mp) / (mass_X + mp) * GeV )**2\n",
    "    derived_cc = np.sqrt( sig / cc_conversion )\n",
    "    \n",
    "    # modify dictionary\n",
    "    cc_dict['cc_dmeff_p'] = derived_cc\n",
    "    del cc_dict['sigma_p']\n",
    "    return cc_dict\n",
    "\n",
    "def convert_to_cc_array(sig, mass_X):\n",
    "    mp = 0.9382720813\n",
    "    GeV = 1./(0.19732705e-15)\n",
    "    cc_conversion = (1./( (246.22 * GeV)**4 * np.pi)) * \\\n",
    "        ( (mass_X * mp) / (mass_X + mp) * GeV )**2\n",
    "    derived_cc = np.sqrt( sig / cc_conversion )\n",
    "    return derived_cc"
   ]
  },
  {
   "cell_type": "markdown",
   "metadata": {},
   "source": [
    "# Experiments"
   ]
  },
  {
   "cell_type": "code",
   "execution_count": 4,
   "metadata": {},
   "outputs": [
    {
     "name": "stderr",
     "output_type": "stream",
     "text": [
      "/home/zequnl/anaconda3/lib/python3.6/site-packages/ipykernel/__main__.py:7: RuntimeWarning: divide by zero encountered in power\n",
      "/home/zequnl/anaconda3/lib/python3.6/site-packages/ipykernel/__main__.py:8: RuntimeWarning: divide by zero encountered in power\n"
     ]
    },
    {
     "name": "stdout",
     "output_type": "stream",
     "text": [
      "Generating theory Cls...\n",
      "Loaded cached Cls from  output/clsAll_low_acc_False_5000_20181220.pkl\n",
      "Loaded cached Cls from  output/clphi_low_acc_False_5000_20181220.txt\n"
     ]
    }
   ],
   "source": [
    "# CMB-S4\n",
    "frequencies = np.array([40., 90., 150., 220., 270.])\n",
    "noise = np.array([5.6, 1.35, 1.81, 9.1, 17.1])\n",
    "beam = 1.4 * 150 / frequencies\n",
    "\n",
    "S4 = fishchips.experiments.CMB_Primary(theta_fwhm=beam, sigma_T=noise, sigma_P=noise*1.4, f_sky=0.4, l_min=100, l_max=5000)\n",
    "S4.noise_T *= 1 + (S4.ells / 3400.0)**(-4.7)\n",
    "S4.noise_P *= 1 + (S4.ells / 340.0)**(-4.7)\n",
    "S4.noise_T[S4.ells < 100] = 1e100\n",
    "S4.noise_T[S4.ells > 3000] = 1e100\n",
    "\n",
    "S4_lensing = fishchips.cmb_lensing.CMB_Lensing_Only(lens_beam=1.5, lens_f_sky=0.4, lens_noiseT=1.0,\n",
    "                       lens_noiseP=1.4, lens_pellmax = 4000,lens_kmax = 3000,\n",
    "                                                NlTT=S4.noise_T, NlEE=S4.noise_P, NlBB=S4.noise_P)\n",
    "\n",
    "tau_prior = fishchips.experiments.Prior( 'tau_reio', 0.01 )\n",
    "S4_tot = [S4, S4_lensing, tau_prior] + fishchips.experiments.get_PlanckPol_combine()"
   ]
  },
  {
   "cell_type": "code",
   "execution_count": 5,
   "metadata": {},
   "outputs": [
    {
     "name": "stdout",
     "output_type": "stream",
     "text": [
      "Generating theory Cls...\n",
      "Loaded cached Cls from  output/clsAll_low_acc_False_5000_20181220.pkl\n",
      "Loaded cached Cls from  output/clphi_low_acc_False_5000_20181220.txt\n"
     ]
    }
   ],
   "source": [
    "# PICO\n",
    "PICO_FWHM = np.array([38.4,32.0,28.3,23.6,22.2,18.4,12.8,10.7,9.5,7.9,7.4,6.2,4.3,3.6,3.2,2.6,2.5,2.1,1.5,1.3,1.1])\n",
    "polweight = np.array([16.9,13.0,8.7,5.6,5.6,4.0,3.8,3.0,2.0,1.6,1.5,1.3,2.8,3.2,2.2,3.0,3.2,6.4,32.4,125.3,740.3])\n",
    "PICO = fishchips.experiments.CMB_Primary(theta_fwhm=PICO_FWHM, sigma_T=polweight, sigma_P=(polweight*1.4), \n",
    "                                         f_sky=0.65, l_min=100, l_max=5000)\n",
    "PICO.noise_T[S4.ells < 100] = 1e100\n",
    "PICO.noise_T[S4.ells > 3000] = 1e100\n",
    "\n",
    "PICO_lensing = fishchips.cmb_lensing.CMB_Lensing_Only(lens_beam=6.0, lens_f_sky=0.4, lens_noiseT=0.6,\n",
    "                           lens_noiseP=0.6*1.4, lens_pellmax = 4000,lens_kmax = 3000,\n",
    "                                                     NlTT=PICO.noise_T, NlEE=PICO.noise_P, NlBB=PICO.noise_P)\n",
    "\n",
    "tau_prior = fishchips.experiments.Prior( 'tau_reio', 0.01 )\n",
    "PICO_tot = [PICO, PICO_lensing, tau_prior] + fishchips.experiments.get_PlanckPol_combine()"
   ]
  },
  {
   "cell_type": "markdown",
   "metadata": {},
   "source": [
    "# Compute"
   ]
  },
  {
   "cell_type": "code",
   "execution_count": 6,
   "metadata": {},
   "outputs": [],
   "source": []
  },
  {
   "cell_type": "code",
   "execution_count": 11,
   "metadata": {},
   "outputs": [],
   "source": [
    "def get_95_from_mass(mass_GeV):\n",
    "    # create an Observables object to store information for derivatives\n",
    "    left_steps = np.array([0.0008, 0.003,   0.02,   0.1e-9, 0.01, 0.02, 0.0])\n",
    "    right_steps = np.array([0.0008, 0.003,   0.02,   0.1e-9, 0.01, 0.02, get_step(mass_GeV)])\n",
    "\n",
    "    obs = Observables(parameters=pars,\n",
    "                      fiducial=centers,\n",
    "                      left=centers-left_steps,\n",
    "                      right=centers+right_steps)\n",
    "\n",
    "    # generate a template CLASS python wrapper configuration\n",
    "    classy_template = {'output': 'tCl,pCl,lCl,mPk',\n",
    "                    'l_max_scalars': 5000,\n",
    "                    'lensing': 'yes',\n",
    "                    'omega_cdm':0.,\n",
    "                    'm_dmeff': mass_GeV,\n",
    "                    'cc_dmeff_op':1,\n",
    "                    'spin_dmeff': 0.5,\n",
    "                    'cc_dmeff_n':0.,\n",
    "                    'use_temperature_dmeff':'yes',\n",
    "                    'use_helium_dmeff':'yes',\n",
    "                    'cc_dmeff_num':1,\n",
    "                    'cc_dmeff_qm2':0,\n",
    "                    'tight_coupling_trigger_tau_c_over_tau_k':0.,\n",
    "                    'tight_coupling_trigger_tau_c_over_tau_h':0.,\n",
    "\n",
    "                     'reionization_optical_depth_tol': 1e-07,\n",
    "                     'tol_background_integration': 1e-8,\n",
    "                     'tol_perturb_integration': 1e-8,\n",
    "                     'tol_thermo_integration': 1e-8,\n",
    "\n",
    "                     'perturb_sampling_stepsize':0.01,\n",
    "                     'k_max_tau0_over_l_max' : 6}\n",
    "    classy_template.update(fishchips.util.PRECISE_CLASS_DICT)\n",
    "\n",
    "    # add in the fiducial values too\n",
    "    classy_template.update(dict(zip(obs.parameters, obs.fiducial)))\n",
    "    \n",
    "    \n",
    "    # generate the fiducial cosmology\n",
    "    obs.compute_cosmo(key='fiducial',\n",
    "                      classy_dict=convert_to_cc(classy_template,mass_GeV))\n",
    "\n",
    "    # generate an observables dictionary, looping over parameters\n",
    "    for par, par_left, par_right in zip(obs.parameters, obs.left, obs.right):\n",
    "        classy_left = classy_template.copy()\n",
    "        classy_left[par] = par_left\n",
    "        classy_right = classy_template.copy()\n",
    "        classy_right[par] = par_right\n",
    "        # pass the dictionaries full of configurations to get computed\n",
    "        obs.compute_cosmo(key=par + '_left',\n",
    "                          classy_dict=convert_to_cc(classy_left, mass_GeV))\n",
    "        obs.compute_cosmo(key=par + '_right',\n",
    "                          classy_dict=convert_to_cc(classy_right, mass_GeV))\n",
    "        \n",
    "    \n",
    "    \n",
    "    # CMB + lensing\n",
    "    fisher = np.sum( [exp.get_fisher(obs, lensed_Cl=False) for exp in PICO_tot], axis=0 )\n",
    "    cov = np.linalg.inv(fisher)\n",
    "    \n",
    "    obs.clean_cosmo()\n",
    "    return get_95_exclusion(cov) * 1e4"
   ]
  },
  {
   "cell_type": "code",
   "execution_count": null,
   "metadata": {},
   "outputs": [],
   "source": [
    "num_masses = 5 # number of grid points\n",
    "input_masses = 10**np.linspace(np.log10(15e-6),3,num_masses) # from 15 keV to 1 TeV\n",
    "cons = [get_95_from_mass(mg) for mg in input_masses]"
   ]
  },
  {
   "cell_type": "code",
   "execution_count": 10,
   "metadata": {},
   "outputs": [
    {
     "data": {
      "image/png": "[encoded data removed]",
      "text/plain": [
       "<Figure size 432x288 with 1 Axes>"
      ]
     },
     "metadata": {
      "image/png": {
       "height": 277,
       "width": 417
      }
     },
     "output_type": "display_data"
    }
   ],
   "source": [
    "plt.plot( input_masses, cons )\n",
    "plt.yscale(\"log\")\n",
    "plt.xscale(\"log\")"
   ]
  },
  {
   "cell_type": "code",
   "execution_count": 13,
   "metadata": {},
   "outputs": [],
   "source": [
    "from astropy.io import ascii\n",
    "\n",
    "ascii.write([input_masses, \n",
    "             cons], \n",
    "            'PICO_forecast.dat', \n",
    "            names=['mass(GeV)', 'PICO(cm^2)'])"
   ]
  },
  {
   "cell_type": "code",
   "execution_count": null,
   "metadata": {},
   "outputs": [],
   "source": []
  },
  {
   "cell_type": "code",
   "execution_count": null,
   "metadata": {},
   "outputs": [],
   "source": []
  },
  {
   "cell_type": "code",
   "execution_count": null,
   "metadata": {},
   "outputs": [],
   "source": []
  },
  {
   "cell_type": "code",
   "execution_count": null,
   "metadata": {},
   "outputs": [],
   "source": []
  }
 ],
 "metadata": {
  "kernelspec": {
   "display_name": "Python 3",
   "language": "python",
   "name": "python3"
  },
  "language_info": {
   "codemirror_mode": {
    "name": "ipython",
    "version": 3
   },
   "file_extension": ".py",
   "mimetype": "text/x-python",
   "name": "python",
   "nbconvert_exporter": "python",
   "pygments_lexer": "ipython3",
   "version": "3.6.6"
  }
 },
 "nbformat": 4,
 "nbformat_minor": 2
}
